{
  "nbformat": 4,
  "nbformat_minor": 0,
  "metadata": {
    "colab": {
      "provenance": []
    },
    "kernelspec": {
      "name": "python3",
      "display_name": "Python 3"
    },
    "language_info": {
      "name": "python"
    }
  },
  "cells": [
    {
      "cell_type": "markdown",
      "source": [
        "[Посилання](https://www.tensorflow.org/tutorials/keras/classification?hl=ru)"
      ],
      "metadata": {
        "id": "WoDW_2010n2U"
      }
    },
    {
      "cell_type": "code",
      "source": [
        "import tensorflow as tf\n",
        "import numpy as np\n",
        "import matplotlib.pyplot as plt"
      ],
      "metadata": {
        "id": "DAmYY99Jyhtl"
      },
      "execution_count": 44,
      "outputs": []
    },
    {
      "cell_type": "code",
      "source": [
        "# Завантаження набору даних Fashion MNIST з TensorFlow Keras datasets API.\n",
        "fashion_mnist = tf.keras.datasets.fashion_mnist\n",
        "\n",
        "# Розпакування набору даних на тренувальний та тестовий набори.\n",
        "# train_images і train_labels - тренувальні зображення та мітки відповідно.\n",
        "# test_images і test_labels - тестові зображення та мітки.\n",
        "\n",
        "(train_images, train_labels), (test_images, test_labels) = fashion_mnist.load_data()"
      ],
      "metadata": {
        "id": "L9ul_Kpuyxe0"
      },
      "execution_count": 45,
      "outputs": []
    },
    {
      "cell_type": "code",
      "source": [
        "# Визначення імен класів для набору даних Fashion MNIST. Кожен клас відповідає типу одягу.\n",
        "\n",
        "class_names = ['T-shirt/top', 'Trouser', 'Pullover', 'Dress', 'Coat',\n",
        "               'Sandal', 'Shirt', 'Sneaker', 'Bag', 'Ankle boot']"
      ],
      "metadata": {
        "id": "qGqwgFfHy4hM"
      },
      "execution_count": 46,
      "outputs": []
    },
    {
      "cell_type": "code",
      "source": [
        "# Отримання розмірності масиву тренувальних зображень.\n",
        "# Виводимо кількість зображень та їх розміри (висота та ширина в пікселях).\n",
        "\n",
        "train_images.shape"
      ],
      "metadata": {
        "colab": {
          "base_uri": "https://localhost:8080/"
        },
        "id": "9oU9Vy_vy7RX",
        "outputId": "15938aa7-b7fd-442a-de17-b0eef9eded2d"
      },
      "execution_count": 47,
      "outputs": [
        {
          "output_type": "execute_result",
          "data": {
            "text/plain": [
              "(60000, 28, 28)"
            ]
          },
          "metadata": {},
          "execution_count": 47
        }
      ]
    },
    {
      "cell_type": "code",
      "source": [
        "# Отримання кількості тренувальних міток, що відповідає кількості тренувальних зображень.\n",
        "\n",
        "len(train_labels)"
      ],
      "metadata": {
        "colab": {
          "base_uri": "https://localhost:8080/"
        },
        "id": "sxbvL3viy_dH",
        "outputId": "ade5ba1d-9118-4da3-adc7-580b88b03970"
      },
      "execution_count": 48,
      "outputs": [
        {
          "output_type": "execute_result",
          "data": {
            "text/plain": [
              "60000"
            ]
          },
          "metadata": {},
          "execution_count": 48
        }
      ]
    },
    {
      "cell_type": "code",
      "source": [
        "# Виведення масиву тренувальних міток. Кожен елемент масиву є цілим числом,\n",
        "# що представляє клас (тип одягу) відповідного зображення у тренувальному наборі даних.\n",
        "\n",
        "train_labels"
      ],
      "metadata": {
        "colab": {
          "base_uri": "https://localhost:8080/"
        },
        "id": "yvz1HvZAzCDv",
        "outputId": "17b62756-effa-4375-ec08-56ea2d497beb"
      },
      "execution_count": 49,
      "outputs": [
        {
          "output_type": "execute_result",
          "data": {
            "text/plain": [
              "array([9, 0, 0, ..., 3, 0, 5], dtype=uint8)"
            ]
          },
          "metadata": {},
          "execution_count": 49
        }
      ]
    },
    {
      "cell_type": "code",
      "source": [
        "# Отримання розмірності масиву тестових зображень, що вказує на кількість зображень у тестовому наборі\n",
        "# та їх розміри (висота та ширина в пікселях).\n",
        "\n",
        "test_images.shape"
      ],
      "metadata": {
        "colab": {
          "base_uri": "https://localhost:8080/"
        },
        "id": "jP3FFU1zzKPM",
        "outputId": "3a84b7ed-2306-4e92-cf4d-6fc8ca67cd3c"
      },
      "execution_count": 50,
      "outputs": [
        {
          "output_type": "execute_result",
          "data": {
            "text/plain": [
              "(10000, 28, 28)"
            ]
          },
          "metadata": {},
          "execution_count": 50
        }
      ]
    },
    {
      "cell_type": "code",
      "source": [
        "# Відображення першого зображення з тренувального набору даних.\n",
        "\n",
        "plt.figure()\n",
        "plt.imshow(train_images[0])\n",
        "plt.colorbar()\n",
        "plt.grid(False)\n",
        "plt.show()"
      ],
      "metadata": {
        "colab": {
          "base_uri": "https://localhost:8080/",
          "height": 430
        },
        "id": "NH4SJfVIzRDW",
        "outputId": "b5e5123e-cf11-4fdb-cf18-21975b078758"
      },
      "execution_count": 51,
      "outputs": [
        {
          "output_type": "display_data",
          "data": {
            "text/plain": [
              "<Figure size 640x480 with 2 Axes>"
            ],
            "image/png": "[encoded data removed]"
          },
          "metadata": {}
        }
      ]
    },
    {
      "cell_type": "code",
      "source": [
        "# Нормалізація піксельних значень тренувальних та тестових зображень до діапазону [0, 1], ділимо на максимальне значення пікселя 255.\n",
        "\n",
        "train_images = train_images / 255.0\n",
        "test_images = test_images / 255.0"
      ],
      "metadata": {
        "id": "hh4kyETHzbhM"
      },
      "execution_count": 52,
      "outputs": []
    },
    {
      "cell_type": "code",
      "source": [
        "# Виводимо перші 25 зображень з тренувального набору.\n",
        "\n",
        "plt.figure(figsize=(10,10))\n",
        "for i in range(10):\n",
        "    plt.subplot(5,5,i+1)\n",
        "    plt.xticks([])\n",
        "    plt.yticks([])\n",
        "    plt.grid(False)\n",
        "    plt.imshow(train_images[i], cmap=plt.cm.binary)\n",
        "    plt.xlabel(class_names[train_labels[i]])\n",
        "plt.show()"
      ],
      "metadata": {
        "colab": {
          "base_uri": "https://localhost:8080/",
          "height": 348
        },
        "id": "t7rC7kBGze8N",
        "outputId": "717cca02-1d2d-475b-f8cf-911d2a0e2fa7"
      },
      "execution_count": 53,
      "outputs": [
        {
          "output_type": "display_data",
          "data": {
            "text/plain": [
              "<Figure size 1000x1000 with 10 Axes>"
            ],
            "image/png": "[encoded data removed]"
          },
          "metadata": {}
        }
      ]
    },
    {
      "cell_type": "code",
      "source": [
        "# Створення послідовної моделі за допомогою Keras. Модель складається з 3-х шарів:\n",
        "\n",
        "model = tf.keras.Sequential([\n",
        "    tf.keras.layers.Flatten(input_shape=(28, 28)), # Перетворення вхідних зображень розміром 28x28 пікселів на одновимірний масив.\n",
        "    tf.keras.layers.Dense(512, activation='relu'), # 1 шар з 512 нейронами і ReLU активацією.\n",
        "    tf.keras.layers.Dropout(0.1), # Шар Dropout для запобігання перенавчанню, відкидає 10% нейронів.\n",
        "    tf.keras.layers.Dense(256, activation='relu'), # 2 шар з 256 нейронами.\n",
        "    tf.keras.layers.Dropout(0.1),\n",
        "    tf.keras.layers.Dense(128, activation='relu'), # 3 шар з 128 нейронами.\n",
        "    tf.keras.layers.Dense(10, activation='softmax')  # Вихідний шар з 10 нейронами для класифікації та Softmax активацією.\n",
        "])\n",
        "\n",
        "print(model.summary())"
      ],
      "metadata": {
        "colab": {
          "base_uri": "https://localhost:8080/"
        },
        "id": "UiUWuOQyzkk5",
        "outputId": "bf931601-10f9-46e5-fad7-12d073947f53"
      },
      "execution_count": 54,
      "outputs": [
        {
          "output_type": "stream",
          "name": "stdout",
          "text": [
            "Model: \"sequential_2\"\n",
            "_________________________________________________________________\n",
            " Layer (type)                Output Shape              Param #   \n",
            "=================================================================\n",
            " flatten_2 (Flatten)         (None, 784)               0         \n",
            "                                                                 \n",
            " dense_6 (Dense)             (None, 512)               401920    \n",
            "                                                                 \n",
            " dropout (Dropout)           (None, 512)               0         \n",
            "                                                                 \n",
            " dense_7 (Dense)             (None, 256)               131328    \n",
            "                                                                 \n",
            " dropout_1 (Dropout)         (None, 256)               0         \n",
            "                                                                 \n",
            " dense_8 (Dense)             (None, 128)               32896     \n",
            "                                                                 \n",
            " dense_9 (Dense)             (None, 10)                1290      \n",
            "                                                                 \n",
            "=================================================================\n",
            "Total params: 567434 (2.16 MB)\n",
            "Trainable params: 567434 (2.16 MB)\n",
            "Non-trainable params: 0 (0.00 Byte)\n",
            "_________________________________________________________________\n",
            "None\n"
          ]
        }
      ]
    },
    {
      "cell_type": "code",
      "source": [
        "#model.compile(optimizer='adam',\n",
        "#              loss=tf.keras.losses.SparseCategoricalCrossentropy(),\n",
        "#              metrics=['accuracy'])"
      ],
      "metadata": {
        "id": "Xy9RpprhzqPI"
      },
      "execution_count": 161,
      "outputs": []
    },
    {
      "cell_type": "code",
      "source": [
        "# Введемо змінний навчальний коефіцієнт, який зменшуватиметься протягом тренування\n",
        "# використовуємо оптимізатор SGD замість Adam\n",
        "\n",
        "# Встановлення розкладу експоненційного зниження швидкості навчання для оптимізатора.\n",
        "lr_schedule = tf.keras.optimizers.schedules.ExponentialDecay(\n",
        "    initial_learning_rate=0.01, # Початкова швидкість навчання.\n",
        "    decay_steps=10000, # Кількість кроків, після яких швидкість навчання буде зменшена.\n",
        "    decay_rate=0.9) # Коефіцієнт зниження швидкості навчання.\n",
        "\n",
        "# Створення оптимізатора SGD (стохастичний градієнтний спуск) з раніше визначеним розкладом\n",
        "# швидкості навчання та додаванням імпульсу для покращення збіжності.\n",
        "optimizer = tf.keras.optimizers.SGD(learning_rate=lr_schedule, momentum=0.9)"
      ],
      "metadata": {
        "id": "YGGgm1yp-3ig"
      },
      "execution_count": 55,
      "outputs": []
    },
    {
      "cell_type": "code",
      "source": [
        "# Компіляція моделі із зазначенням оптимізатора, функції втрат та метрики для оцінки продуктивності.\n",
        "\n",
        "model.compile(optimizer=optimizer, # Оптимізатор, який використовується для тренування (SGD з експоненційним зниженням швидкості навчання)\n",
        "            loss='sparse_categorical_crossentropy', # Функція втрат, в нашому випадку оптимальна для мультикласової класифікації з цілочисельними мітками.\n",
        "            metrics=['accuracy']) # Список метрик для моніторингу. Використовуємо точність (accuracy) як основну метрику."
      ],
      "metadata": {
        "id": "1Z9rVmJT97bm"
      },
      "execution_count": 56,
      "outputs": []
    },
    {
      "cell_type": "code",
      "source": [
        "# Створення зворотного виклику (callback) для ранньої зупинки тренування моделі, щоб запобігти перенавчанню.\n",
        "early_stopping = tf.keras.callbacks.EarlyStopping(\n",
        "    monitor='val_loss', # Моніторинг втрати на валідаційному наборі даних.\n",
        "    patience=10,        # Кількість епох без покращення після яких тренування буде зупинено\n",
        "    restore_best_weights=True) # Відновлення ваг моделі з епохи, де було досягнуто найкращої валідаційної втрати."
      ],
      "metadata": {
        "id": "MvtEABJD_B00"
      },
      "execution_count": 57,
      "outputs": []
    },
    {
      "cell_type": "code",
      "source": [
        "# Тренування моделі на тренувальному наборі даних\n",
        "\n",
        "model.fit(train_images, train_labels, # Тренувальні зображення та відповідні їм мітки\n",
        "          epochs=20, # Максимальна кількість епох для тренування.\n",
        "          batch_size=256, # Розмір пакету (кількість зразків за одне оновлення градієнта).\n",
        "          callbacks=[early_stopping], # Застосування ранньої зупинки для запобігання перенавчанню.\n",
        "          validation_split=0.2) # Частка даних, яка буде використовуватися як валідаційний набір."
      ],
      "metadata": {
        "colab": {
          "base_uri": "https://localhost:8080/"
        },
        "id": "Wlpk5WuVzusz",
        "outputId": "b29b9b35-7ccb-4440-f4a1-f93740587833"
      },
      "execution_count": 64,
      "outputs": [
        {
          "output_type": "stream",
          "name": "stdout",
          "text": [
            "Epoch 1/20\n",
            "188/188 [==============================] - 3s 14ms/step - loss: 0.1764 - accuracy: 0.9349 - val_loss: 0.3041 - val_accuracy: 0.8981\n",
            "Epoch 2/20\n",
            "188/188 [==============================] - 3s 14ms/step - loss: 0.1755 - accuracy: 0.9348 - val_loss: 0.3163 - val_accuracy: 0.8941\n",
            "Epoch 3/20\n",
            "188/188 [==============================] - 3s 13ms/step - loss: 0.1750 - accuracy: 0.9350 - val_loss: 0.2949 - val_accuracy: 0.8955\n",
            "Epoch 4/20\n",
            "188/188 [==============================] - 3s 15ms/step - loss: 0.1673 - accuracy: 0.9381 - val_loss: 0.3065 - val_accuracy: 0.8932\n",
            "Epoch 5/20\n",
            "188/188 [==============================] - 3s 14ms/step - loss: 0.1631 - accuracy: 0.9397 - val_loss: 0.2863 - val_accuracy: 0.8998\n",
            "Epoch 6/20\n",
            "188/188 [==============================] - 3s 14ms/step - loss: 0.1623 - accuracy: 0.9404 - val_loss: 0.2891 - val_accuracy: 0.8985\n",
            "Epoch 7/20\n",
            "188/188 [==============================] - 3s 14ms/step - loss: 0.1586 - accuracy: 0.9416 - val_loss: 0.2976 - val_accuracy: 0.8994\n",
            "Epoch 8/20\n",
            "188/188 [==============================] - 3s 15ms/step - loss: 0.1554 - accuracy: 0.9421 - val_loss: 0.2988 - val_accuracy: 0.8998\n",
            "Epoch 9/20\n",
            "188/188 [==============================] - 3s 14ms/step - loss: 0.1543 - accuracy: 0.9431 - val_loss: 0.3010 - val_accuracy: 0.8969\n",
            "Epoch 10/20\n",
            "188/188 [==============================] - 3s 14ms/step - loss: 0.1492 - accuracy: 0.9443 - val_loss: 0.3088 - val_accuracy: 0.8959\n",
            "Epoch 11/20\n",
            "188/188 [==============================] - 3s 14ms/step - loss: 0.1491 - accuracy: 0.9435 - val_loss: 0.3093 - val_accuracy: 0.8955\n",
            "Epoch 12/20\n",
            "188/188 [==============================] - 3s 15ms/step - loss: 0.1470 - accuracy: 0.9463 - val_loss: 0.3193 - val_accuracy: 0.8960\n",
            "Epoch 13/20\n",
            "188/188 [==============================] - 4s 20ms/step - loss: 0.1435 - accuracy: 0.9455 - val_loss: 0.3320 - val_accuracy: 0.8879\n",
            "Epoch 14/20\n",
            "188/188 [==============================] - 3s 15ms/step - loss: 0.1402 - accuracy: 0.9498 - val_loss: 0.3058 - val_accuracy: 0.9003\n",
            "Epoch 15/20\n",
            "188/188 [==============================] - 3s 19ms/step - loss: 0.1355 - accuracy: 0.9507 - val_loss: 0.3180 - val_accuracy: 0.8968\n"
          ]
        },
        {
          "output_type": "execute_result",
          "data": {
            "text/plain": [
              "<keras.src.callbacks.History at 0x7bdaa4adef80>"
            ]
          },
          "metadata": {},
          "execution_count": 64
        }
      ]
    },
    {
      "cell_type": "code",
      "source": [
        "# Оцінка моделі на тестовому наборі даних для визначення втрати та точності.\n",
        "\n",
        "test_loss, test_acc = model.evaluate(test_images,  test_labels, verbose=2)\n",
        "\n",
        "print('\\nTest accuracy:', test_acc)"
      ],
      "metadata": {
        "colab": {
          "base_uri": "https://localhost:8080/"
        },
        "id": "V1t47BRX0co1",
        "outputId": "6a9c2872-cf34-4820-e27c-cf6cf98082f2"
      },
      "execution_count": 63,
      "outputs": [
        {
          "output_type": "stream",
          "name": "stdout",
          "text": [
            "313/313 - 0s - loss: 0.3247 - accuracy: 0.8883 - 462ms/epoch - 1ms/step\n",
            "\n",
            "Test accuracy: 0.8883000016212463\n"
          ]
        }
      ]
    },
    {
      "cell_type": "markdown",
      "source": [
        "ВИСНОВКИ:\n",
        "\n",
        "Модель показала точність класифікації на тестовому наборі даних — 88.83%\n",
        "\n",
        "Основні аспекти, які сприяли досягненню цього результату:\n",
        "\n",
        "- Архітектурно модель складається з 3-х шарів з\n",
        "512, 256 та 128 нейронами відповідно. Активація ReLU була використана для нелінійності, а шар Softmax на виході дозволив класифікувати зображення у 10 категорій одягу.\n",
        "\n",
        "- Регуляризація- були застосовані шари Dropout з коефіцієнтом 0.1 Це допомогло зменшити перенавчання, забезпечуючи більш стійку модель, що покращило результати на тестових даних.\n",
        "\n",
        "- Оптимізатор - використання стохастичного градієнтного спуску (SGD) з експоненційним зниженням швидкості навчання та значенням імпульсу 0.9 показало кращі результати ніж з Adam.\n",
        "\n",
        "- Використання ранньої зупинки у 10 епох і відновленням найкращих ваг показало, що модель зупиняється в оптимальний момент, мінімізуючи ризик перенавчання."
      ],
      "metadata": {
        "id": "GWCLdOeV8u-Z"
      }
    },
    {
      "cell_type": "markdown",
      "source": [],
      "metadata": {
        "id": "bZu2b5rAF6wg"
      }
    }
  ]
}